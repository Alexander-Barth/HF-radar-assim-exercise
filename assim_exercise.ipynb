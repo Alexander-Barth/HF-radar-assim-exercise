{
 "cells": [
  {
   "cell_type": "markdown",
   "metadata": {},
   "source": [
    "# Data assimilation exercise"
   ]
  },
  {
   "cell_type": "markdown",
   "metadata": {},
   "source": [
    "Load the necessary modules.\n",
    "Use `Shift-Enter` to execute a cell."
   ]
  },
  {
   "cell_type": "code",
   "execution_count": null,
   "metadata": {},
   "outputs": [],
   "source": [
    "using Random\n",
    "using LinearAlgebra\n",
    "using Statistics\n",
    "\n",
    "using DataAssim\n",
    "using NCDatasets\n",
    "using Interpolations\n",
    "using GeoMapping\n",
    "using PyPlot"
   ]
  },
  {
   "cell_type": "markdown",
   "metadata": {},
   "source": [
    "Download the data (if necessary)"
   ]
  },
  {
   "cell_type": "code",
   "execution_count": null,
   "metadata": {},
   "outputs": [],
   "source": [
    "if !isdir(\"data\")\n",
    "    mkdir(\"data\")\n",
    "end\n",
    "\n",
    "if !isfile(\"data/ensemble_surface.nc\")\n",
    "    download(\"https://dox.uliege.be/index.php/s/WKweU7pRtPqlwRK/download\",\"data/ensemble_surface.nc\")\n",
    "end\n",
    "\n",
    "if !isfile(\"data/LS2v.nc\")\n",
    "    download(\"https://dox.uliege.be/index.php/s/k2AaF1ETWDGUsg3/download\",\"data/LS2v.nc\")\n",
    "end"
   ]
  },
  {
   "cell_type": "markdown",
   "metadata": {},
   "source": [
    "Define some helper functions:\n",
    "\n",
    "Compute the RMS difference between a and b"
   ]
  },
  {
   "cell_type": "code",
   "execution_count": null,
   "metadata": {},
   "outputs": [],
   "source": [
    "rms(a,b) = sqrt(mean((a - b).^2))"
   ]
  },
  {
   "cell_type": "markdown",
   "metadata": {},
   "source": [
    "`packsv` combines the velocity field with the component u and v\n",
    "in a single state vector where the corresponding elements of\n",
    "the masks mask_u and mask_v are true"
   ]
  },
  {
   "cell_type": "code",
   "execution_count": null,
   "metadata": {},
   "outputs": [],
   "source": [
    "function packsv(mask_u,mask_v,u,v)\n",
    "    return [u[mask_u]; v[mask_v]]\n",
    "end"
   ]
  },
  {
   "cell_type": "markdown",
   "metadata": {},
   "source": [
    "`unpacksv` extracts from a state vector x the compoennts u and v. It is the reverse operation of packsv.\n"
   ]
  },
  {
   "cell_type": "code",
   "execution_count": null,
   "metadata": {},
   "outputs": [],
   "source": [
    "function unpacksv(mask_u,mask_v,x)\n",
    "    n = sum(mask_u)\n",
    "    u = fill(NaN,size(mask_u))\n",
    "    v = fill(NaN,size(mask_v))\n",
    "    u[mask_u] = x[1:n]\n",
    "    v[mask_v] = x[n+1:end]\n",
    "    return u,v\n",
    "end"
   ]
  },
  {
   "cell_type": "markdown",
   "metadata": {},
   "source": [
    "set correct aspect ratio for map"
   ]
  },
  {
   "cell_type": "code",
   "execution_count": null,
   "metadata": {},
   "outputs": [],
   "source": [
    "function aspect_ratio()\n",
    "  gca().set_aspect(1/cos(mean([ylim()...]) * pi/180))\n",
    "end\n"
   ]
  },
  {
   "cell_type": "markdown",
   "metadata": {},
   "source": [
    "`km2deg` converts km to arc degree on the surface of the Earth"
   ]
  },
  {
   "cell_type": "code",
   "execution_count": null,
   "metadata": {},
   "outputs": [],
   "source": [
    "km2deg(x) = 180 * x / (pi * 6371)"
   ]
  },
  {
   "cell_type": "markdown",
   "metadata": {},
   "source": [
    "`radarobsloc` computes the location of the radial velocities covered by an HF radar site located at lon0,lat0. The vector r are the ranges (in km) and bearing are the angles (in degree). It also returns the matrix Bearing which has the same size as the matrices lonobs and latobs where the bearing angle is repeated for the different ranges."
   ]
  },
  {
   "cell_type": "code",
   "execution_count": null,
   "metadata": {},
   "outputs": [],
   "source": [
    "function radarobsloc(lon0,lat0,r,bearing)\n",
    "\n",
    "    sz = (length(r),length(bearing))\n",
    "    latobs = zeros(sz)\n",
    "    lonobs = zeros(sz)\n",
    "    Bearing = zeros(sz)\n",
    "\n",
    "    for j = 1:length(bearing)\n",
    "        for i = 1:length(r)\n",
    "            Bearing[i,j] = bearing[j]\n",
    "            latobs[i,j],lonobs[i,j] = reckon(lat0, lon0,\n",
    "                                             km2deg(r[i]), bearing[j])\n",
    "        end\n",
    "    end\n",
    "\n",
    "    return lonobs,latobs,Bearing\n",
    "end"
   ]
  },
  {
   "cell_type": "markdown",
   "metadata": {},
   "source": [
    "Plot the vector field with the comonents u and v. The parameter legendvec is an optional argument representing the length of the legend vector\n"
   ]
  },
  {
   "cell_type": "code",
   "execution_count": null,
   "metadata": {},
   "outputs": [],
   "source": [
    "function plotvel(u,v; legendvec = 1, color = \"k\")\n",
    "    us = (u[1:end-1,2:end-1] + u[2:end,2:end-1]) / 2.\n",
    "    vs = (v[2:end-1,1:end-1] + v[2:end-1,2:end]) / 2.\n",
    "    r = 5\n",
    "\n",
    "    ur = us[1:r:end,1:r:end]\n",
    "    vr = vs[1:r:end,1:r:end]\n",
    "    lonr = lon[2:end-1,2:end-1][1:r:end,1:r:end]\n",
    "    latr = lat[2:end-1,2:end-1][1:r:end,1:r:end]\n",
    "\n",
    "    ur[end-7,end-3] = legendvec\n",
    "    vr[end-7,end-3] = 0\n",
    "    contourf(lon,lat,mask,levels = [0.,0.5],colors = [[.5,.5,.5]])\n",
    "    quiver(lonr,latr,ur,vr, color = color)\n",
    "    aspect_ratio()\n",
    "end"
   ]
  },
  {
   "cell_type": "markdown",
   "metadata": {},
   "source": [
    "Interpolate and rotate the velocity vertors to compute the radial velcity `ur`.\n",
    "Return only the radial velocity over sea. Currents towards the antenna are positive."
   ]
  },
  {
   "cell_type": "code",
   "execution_count": null,
   "metadata": {},
   "outputs": [],
   "source": [
    "function interp_radvel(lon_u,lat_u,lon_v,lat_v,us,vs,lonobs,latobs,bearingobs)\n",
    "    itpu = extrapolate(interpolate((lon_u[:,1],lat_u[1,:]),us,Gridded(Linear())),NaN)\n",
    "    itpv = extrapolate(interpolate((lon_v[:,1],lat_v[1,:]),vs,Gridded(Linear())),NaN)\n",
    "\n",
    "    ur = zeros(size(lonobs))\n",
    "    for i = 1:length(lonobs)\n",
    "        direction = (bearingobs[i] - 180) * pi/180\n",
    "        ur[i] = sin(direction) * itpu(lonobs[i],latobs[i]) + cos(direction) * itpv(lonobs[i],latobs[i])\n",
    "    end\n",
    "    on_sea = .!isnan.(ur)\n",
    "    return ur[on_sea],on_sea\n",
    "end"
   ]
  },
  {
   "cell_type": "markdown",
   "metadata": {},
   "source": [
    "Load the model ensemble"
   ]
  },
  {
   "cell_type": "code",
   "execution_count": null,
   "metadata": {},
   "outputs": [],
   "source": [
    "# location of the data\n",
    "# @__FILE__is the path of the current file\n",
    "datadir = joinpath(dirname(@__FILE__),\"data\")\n",
    "\n",
    "# load the NetCDF varibles u and v\n",
    "fname = joinpath(datadir,\"ensemble_surface.nc\")\n",
    "nc = Dataset(fname)\n",
    "u = nomissing(nc[\"u\"][:,:,1:40],NaN)\n",
    "v = nomissing(nc[\"v\"][:,:,1:40],NaN)\n",
    "close(nc)"
   ]
  },
  {
   "cell_type": "markdown",
   "metadata": {},
   "source": [
    "Load the model grid"
   ]
  },
  {
   "cell_type": "code",
   "execution_count": null,
   "metadata": {},
   "outputs": [],
   "source": [
    "gridname = joinpath(datadir,\"LS2v.nc\")\n",
    "nc = Dataset(gridname);\n",
    "lon_u = nomissing(nc[\"lon_u\"][:,:])\n",
    "lat_u = nomissing(nc[\"lat_u\"][:,:])\n",
    "lon_v = nomissing(nc[\"lon_v\"][:,:])\n",
    "lat_v = nomissing(nc[\"lat_v\"][:,:])\n",
    "lon = nomissing(nc[\"lon_rho\"][:,:])\n",
    "lat = nomissing(nc[\"lat_rho\"][:,:])\n",
    "# mask is just used for drawing the coastline\n",
    "mask = nomissing(nc[\"mask_rho\"][:,:])\n",
    "# mask_u/mask_v are true where a grid cell is a sea point (and zero where it is a land point)\n",
    "mask_u = nomissing(nc[\"mask_u\"][:,:]) .== 1\n",
    "mask_v = nomissing(nc[\"mask_v\"][:,:]) .== 1\n",
    "close(nc)"
   ]
  },
  {
   "cell_type": "markdown",
   "metadata": {},
   "source": [
    "# Question 1\n",
    "\n",
    "Compute the ensemble standard deviation of the velocity vector (see slides).\n",
    "\n",
    "Hint: The variables `u` and `v` are not defined on the same grid. To interpolate them on the center of every grid cell one can use:\n",
    "\n",
    "```julia\n",
    "us = (u[1:end-1,2:end-1,:] + u[2:end,2:end-1,:]) / 2.\n",
    "vs = (v[2:end-1,1:end-1,:] + v[2:end-1,2:end,:]) / 2.\n",
    "```\n"
   ]
  },
  {
   "cell_type": "code",
   "execution_count": null,
   "metadata": {},
   "outputs": [],
   "source": [
    "# start here for question 1\n"
   ]
  },
  {
   "cell_type": "markdown",
   "metadata": {},
   "source": [
    "# Question 2\n",
    "\n",
    "\n",
    "What is the __probability__ that the speed (norm of the velocity vector) exceeds 20 cm/s assuming that the ensemble members are a sample of the model probability distribution function (pdf)?\n"
   ]
  },
  {
   "cell_type": "code",
   "execution_count": null,
   "metadata": {},
   "outputs": [],
   "source": [
    "# start here for question 2"
   ]
  },
  {
   "cell_type": "code",
   "execution_count": null,
   "metadata": {},
   "outputs": [],
   "source": []
  },
  {
   "cell_type": "markdown",
   "metadata": {},
   "source": [
    "# Question 3\n",
    "\n",
    "3) Simplified __twin experiment__:\n",
    "   * Let's assume that the last ensemble member is the reality (true current)\n",
    "   * The last ensemble member will be used to extract observations, but it will not be used during the analysis\n",
    "   * Assimilate radial observations of two HF radar sites\n",
    "   * Optimize the __position and orientation__ of two HF radar sites by minimizing the RMS error (as defined below). We assume that the field of view of the HF Radar 120 degrees but the orientation of the antenna can be chosen freely. The range of HF radar is fixed to 100 km with a radial resolution of 5 km.\n",
    "   * Validate the mean of the analysis ensemble with the true currents\n"
   ]
  },
  {
   "cell_type": "markdown",
   "metadata": {},
   "source": [
    "Define the location of the HF radar and choose a group name"
   ]
  },
  {
   "cell_type": "code",
   "execution_count": null,
   "metadata": {},
   "outputs": [],
   "source": [
    "groupname = \"Alex\" # <- put here your group name\n",
    "\n",
    "sitelon1 = 9.84361\n",
    "sitelat1 = 44.04167\n",
    "siteorientation1 = 240\n",
    "\n",
    "sitelon2 = 10.46\n",
    "sitelat2 = 43.37\n",
    "siteorientation2 = 240"
   ]
  },
  {
   "cell_type": "markdown",
   "metadata": {},
   "source": [
    "The following code does not need to be changed"
   ]
  },
  {
   "cell_type": "code",
   "execution_count": null,
   "metadata": {},
   "outputs": [],
   "source": [
    "# distances from HF radar site in km\n",
    "ranges = 5:5:100\n",
    "\n",
    "lonobs1,latobs1,bearingobs1 = radarobsloc(sitelon1,sitelat1,ranges,siteorientation1 .+ (-60:5:60))\n",
    "lonobs2,latobs2,bearingobs2 = radarobsloc(sitelon2,sitelat2,ranges,siteorientation2 .+ (-60:5:60))"
   ]
  },
  {
   "cell_type": "markdown",
   "metadata": {},
   "source": [
    "Area measured by the HF radar"
   ]
  },
  {
   "cell_type": "code",
   "execution_count": null,
   "metadata": {},
   "outputs": [],
   "source": [
    "plot(sitelon1,sitelat1,\"rx\")\n",
    "plot(lonobs1,latobs1,\".r\",markersize = 2)\n",
    "plot(lonobs2,latobs2,\".b\",markersize = 2)\n",
    "plot(sitelon2,sitelat2,\"bx\")\n",
    "\n",
    "plotvel(u[:,:,1],v[:,:,1]; legendvec = 1);"
   ]
  },
  {
   "cell_type": "markdown",
   "metadata": {},
   "source": [
    "The last ensemble member is assumed to be the true state"
   ]
  },
  {
   "cell_type": "code",
   "execution_count": null,
   "metadata": {},
   "outputs": [],
   "source": [
    "bearingobs = bearingobs1[:]\n",
    "lonobs = lonobs1[:]\n",
    "latobs = latobs1[:]\n",
    "\n",
    "bearingobs = [bearingobs1[:]; bearingobs2[:]]\n",
    "lonobs = [lonobs1[:]; lonobs2[:]]\n",
    "latobs = [latobs1[:]; latobs2[:]]\n",
    "\n",
    "# the true state\n",
    "xt = packsv(mask_u,mask_v,u[:,:,end],v[:,:,end])\n",
    "\n",
    "# number of elements in the state vector\n",
    "n = sum(mask_u) + sum(mask_v)\n",
    "\n",
    "# Ensemble size\n",
    "Nens = size(u,3)-1\n",
    "\n",
    "# Matrix with all ensemble members in \"packed\" form\n",
    "Xf = zeros(n,Nens)\n",
    "for n = 1:Nens\n",
    "    Xf[:,n] = packsv(mask_u,mask_v,u[:,:,n],v[:,:,n])\n",
    "end\n",
    "\n",
    "# ensemble mean\n",
    "xf = mean(Xf, dims = 2)\n",
    "\n",
    "# extract observations\n",
    "yo,on_sea = interp_radvel(lon_u,lat_u,lon_v,lat_v,u[:,:,end],v[:,:,end],lonobs,latobs,bearingobs)\n",
    "\n",
    "R = Diagonal(fill(0.01,size(yo)))\n",
    "\n",
    "# set the seed\n",
    "Random.seed!(12345)\n",
    "\n",
    "# add noise to yo\n",
    "yo = yo + sqrt(R) * randn(size(yo))\n",
    "\n",
    "HXf = zeros(length(yo),size(u,3)-1)\n",
    "\n",
    "# apply the observation operator to every velocity field\n",
    "for i = 1:Nens\n",
    "    HXf[:,i],on_sea = interp_radvel(lon_u,lat_u,lon_v,lat_v,u[:,:,i],v[:,:,i],lonobs,latobs,bearingobs)\n",
    "end\n",
    "\n",
    "# apply the ETKF\n",
    "\n",
    "Xa,xa = ETKF(Xf,HXf,yo,R,[])\n",
    "\n",
    "# extract the velocity from the state vector\n",
    "uf,vf = unpacksv(mask_u,mask_v,xf)\n",
    "ua,va = unpacksv(mask_u,mask_v,xa)"
   ]
  },
  {
   "cell_type": "code",
   "execution_count": null,
   "metadata": {},
   "outputs": [],
   "source": [
    "# compute the RMS errors\n",
    "@show rms(xf,xt)\n",
    "@show rms(xa,xt)"
   ]
  },
  {
   "cell_type": "markdown",
   "metadata": {},
   "source": [
    "Plot all radial measurements"
   ]
  },
  {
   "cell_type": "code",
   "execution_count": null,
   "metadata": {},
   "outputs": [],
   "source": [
    "scatter(lonobs[on_sea],latobs[on_sea],10,yo; cmap=\"jet\"); colorbar();\n",
    "contourf(lon,lat,mask,levels = [0.,0.5],colors = [[.5,.5,.5]])\n",
    "aspect_ratio()"
   ]
  },
  {
   "cell_type": "code",
   "execution_count": null,
   "metadata": {},
   "outputs": [],
   "source": []
  },
  {
   "cell_type": "code",
   "execution_count": null,
   "metadata": {},
   "outputs": [],
   "source": [
    "figure(figsize=(10,4))\n",
    "subplot(1,2,1); plotvel(uf,vf; legendvec = 1); title(\"Forecast\")\n",
    "subplot(1,2,2); plotvel(ua,va; legendvec = 1); title(\"Analysis\");\n"
   ]
  },
  {
   "cell_type": "markdown",
   "metadata": {},
   "source": [
    "A function to submit the RMS error to score board:\n",
    "http://data-assimilation.net/scores/?game=OGCB2025"
   ]
  },
  {
   "cell_type": "code",
   "execution_count": null,
   "metadata": {},
   "outputs": [],
   "source": [
    "function submit_results(groupname,\n",
    "                        sitelon1,sitelat1,siteorientation1,\n",
    "                        sitelon2,sitelat2,siteorientation2,rms_velocity)\n",
    "    function myescape(str)\n",
    "        for (s1,s2) in Dict(\"{\" => \"%7B\", \"}\" => \"%7D\", \"\\\"\" => \"%22\", \" \" => \"%20\")\n",
    "            str = replace(str,s1 => s2)\n",
    "        end\n",
    "        return str\n",
    "    end\n",
    "    myjson(data) = \"{\" * join([\"\\\"$k\\\":$(string(v))\" for (k,v) in data],\",\") * \"}\"\n",
    "    game = \"OGCB2025\"\n",
    "\n",
    "    data_dict = Dict(\n",
    "                      \"sitelon1\" => sitelon1,\n",
    "                      \"sitelat1\" => sitelat1,\n",
    "                      \"siteorientation1\" => siteorientation1,\n",
    "                      \"sitelon2\" => sitelon2,\n",
    "                      \"sitelat2\" => sitelat2,\n",
    "                      \"siteorientation2\" => siteorientation2)\n",
    "    \n",
    "    #=\n",
    "    data = JSON.json(data_dict)\n",
    "    groupname_esc = URIParser.escape(groupname)\n",
    "    data_esc = URIParser.escape(data)\n",
    "    =#\n",
    "    data = myjson(data_dict)    \n",
    "    groupname_esc = myescape(groupname)\n",
    "    data_esc = myescape(data)\n",
    "    baseurl = \"http://data-assimilation.net/scores\"\n",
    "    URL = \"$(baseurl)/new?game=$(game)&name=$(groupname_esc)&value=$(rms_velocity)&data=$(data_esc)\"\n",
    "    rm(download(URL))\n",
    "    println(\"Check scores at: $(baseurl)/?game=$(game)\\n\")\n",
    "end\n"
   ]
  },
  {
   "cell_type": "code",
   "execution_count": null,
   "metadata": {},
   "outputs": [],
   "source": [
    "rms_velocity = rms(xa,xt)\n",
    "@show rms_velocity\n",
    "submit_results(groupname,\n",
    "               sitelon1,sitelat1,siteorientation1,\n",
    "               sitelon2,sitelat2,siteorientation2,rms_velocity)\n"
   ]
  }
 ],
 "metadata": {
  "@webio": {
   "lastCommId": null,
   "lastKernelId": null
  },
  "kernelspec": {
   "display_name": "Julia 1.11.4",
   "language": "julia",
   "name": "julia-1.11"
  },
  "language_info": {
   "file_extension": ".jl",
   "mimetype": "application/julia",
   "name": "julia",
   "version": "1.9.0"
  }
 },
 "nbformat": 4,
 "nbformat_minor": 4
}
